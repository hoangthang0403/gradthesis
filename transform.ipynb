{
 "cells": [
  {
   "cell_type": "code",
   "id": "initial_id",
   "metadata": {
    "collapsed": true,
    "ExecuteTime": {
     "end_time": "2025-04-13T14:27:15.799058Z",
     "start_time": "2025-04-13T14:27:15.181134Z"
    }
   },
   "source": "import pandas as pd",
   "outputs": [],
   "execution_count": 1
  },
  {
   "metadata": {
    "ExecuteTime": {
     "end_time": "2025-04-13T09:42:48.285365Z",
     "start_time": "2025-04-13T09:42:46.985587Z"
    }
   },
   "cell_type": "code",
   "source": [
    "old = pd.read_csv('data/old_trade_history.csv')\n",
    "new = pd.read_csv('data/updated_trade_history.csv')"
   ],
   "id": "46ce0f9fe2d5322b",
   "outputs": [],
   "execution_count": 30
  },
  {
   "metadata": {
    "ExecuteTime": {
     "end_time": "2025-04-13T09:43:13.808643Z",
     "start_time": "2025-04-13T09:43:13.748636Z"
    }
   },
   "cell_type": "code",
   "source": [
    "final = pd.concat([old, new],ignore_index=True)\n",
    "final"
   ],
   "id": "dde9d6efe4ed1fbc",
   "outputs": [
    {
     "data": {
      "text/plain": [
       "        ticker        time   open   high    low  close   volume\n",
       "0          A32  2018-10-23  13.19   0.00   0.00   0.00        0\n",
       "1          A32  2018-10-24  13.19  13.19  13.19  13.19        0\n",
       "2          A32  2018-10-25  13.19  13.19  13.19  13.19        0\n",
       "3          A32  2018-10-26  13.19  13.19  13.19  13.19        0\n",
       "4          A32  2018-10-29  13.19  13.19  13.19  13.19        0\n",
       "...        ...         ...    ...    ...    ...    ...      ...\n",
       "3590678    YEG  2025-03-31  13.55  14.20  13.35  13.70  1353500\n",
       "3590679    YTC  2025-03-26  33.80  33.80  33.10  33.10     1019\n",
       "3590680    YTC  2025-03-27  31.10  35.00  31.10  35.00      400\n",
       "3590681    YTC  2025-03-28  31.80  35.50  31.80  31.80      604\n",
       "3590682    YTC  2025-03-31  28.90  34.50  28.90  29.50     1600\n",
       "\n",
       "[3590683 rows x 7 columns]"
      ],
      "text/html": [
       "<div>\n",
       "<style scoped>\n",
       "    .dataframe tbody tr th:only-of-type {\n",
       "        vertical-align: middle;\n",
       "    }\n",
       "\n",
       "    .dataframe tbody tr th {\n",
       "        vertical-align: top;\n",
       "    }\n",
       "\n",
       "    .dataframe thead th {\n",
       "        text-align: right;\n",
       "    }\n",
       "</style>\n",
       "<table border=\"1\" class=\"dataframe\">\n",
       "  <thead>\n",
       "    <tr style=\"text-align: right;\">\n",
       "      <th></th>\n",
       "      <th>ticker</th>\n",
       "      <th>time</th>\n",
       "      <th>open</th>\n",
       "      <th>high</th>\n",
       "      <th>low</th>\n",
       "      <th>close</th>\n",
       "      <th>volume</th>\n",
       "    </tr>\n",
       "  </thead>\n",
       "  <tbody>\n",
       "    <tr>\n",
       "      <th>0</th>\n",
       "      <td>A32</td>\n",
       "      <td>2018-10-23</td>\n",
       "      <td>13.19</td>\n",
       "      <td>0.00</td>\n",
       "      <td>0.00</td>\n",
       "      <td>0.00</td>\n",
       "      <td>0</td>\n",
       "    </tr>\n",
       "    <tr>\n",
       "      <th>1</th>\n",
       "      <td>A32</td>\n",
       "      <td>2018-10-24</td>\n",
       "      <td>13.19</td>\n",
       "      <td>13.19</td>\n",
       "      <td>13.19</td>\n",
       "      <td>13.19</td>\n",
       "      <td>0</td>\n",
       "    </tr>\n",
       "    <tr>\n",
       "      <th>2</th>\n",
       "      <td>A32</td>\n",
       "      <td>2018-10-25</td>\n",
       "      <td>13.19</td>\n",
       "      <td>13.19</td>\n",
       "      <td>13.19</td>\n",
       "      <td>13.19</td>\n",
       "      <td>0</td>\n",
       "    </tr>\n",
       "    <tr>\n",
       "      <th>3</th>\n",
       "      <td>A32</td>\n",
       "      <td>2018-10-26</td>\n",
       "      <td>13.19</td>\n",
       "      <td>13.19</td>\n",
       "      <td>13.19</td>\n",
       "      <td>13.19</td>\n",
       "      <td>0</td>\n",
       "    </tr>\n",
       "    <tr>\n",
       "      <th>4</th>\n",
       "      <td>A32</td>\n",
       "      <td>2018-10-29</td>\n",
       "      <td>13.19</td>\n",
       "      <td>13.19</td>\n",
       "      <td>13.19</td>\n",
       "      <td>13.19</td>\n",
       "      <td>0</td>\n",
       "    </tr>\n",
       "    <tr>\n",
       "      <th>...</th>\n",
       "      <td>...</td>\n",
       "      <td>...</td>\n",
       "      <td>...</td>\n",
       "      <td>...</td>\n",
       "      <td>...</td>\n",
       "      <td>...</td>\n",
       "      <td>...</td>\n",
       "    </tr>\n",
       "    <tr>\n",
       "      <th>3590678</th>\n",
       "      <td>YEG</td>\n",
       "      <td>2025-03-31</td>\n",
       "      <td>13.55</td>\n",
       "      <td>14.20</td>\n",
       "      <td>13.35</td>\n",
       "      <td>13.70</td>\n",
       "      <td>1353500</td>\n",
       "    </tr>\n",
       "    <tr>\n",
       "      <th>3590679</th>\n",
       "      <td>YTC</td>\n",
       "      <td>2025-03-26</td>\n",
       "      <td>33.80</td>\n",
       "      <td>33.80</td>\n",
       "      <td>33.10</td>\n",
       "      <td>33.10</td>\n",
       "      <td>1019</td>\n",
       "    </tr>\n",
       "    <tr>\n",
       "      <th>3590680</th>\n",
       "      <td>YTC</td>\n",
       "      <td>2025-03-27</td>\n",
       "      <td>31.10</td>\n",
       "      <td>35.00</td>\n",
       "      <td>31.10</td>\n",
       "      <td>35.00</td>\n",
       "      <td>400</td>\n",
       "    </tr>\n",
       "    <tr>\n",
       "      <th>3590681</th>\n",
       "      <td>YTC</td>\n",
       "      <td>2025-03-28</td>\n",
       "      <td>31.80</td>\n",
       "      <td>35.50</td>\n",
       "      <td>31.80</td>\n",
       "      <td>31.80</td>\n",
       "      <td>604</td>\n",
       "    </tr>\n",
       "    <tr>\n",
       "      <th>3590682</th>\n",
       "      <td>YTC</td>\n",
       "      <td>2025-03-31</td>\n",
       "      <td>28.90</td>\n",
       "      <td>34.50</td>\n",
       "      <td>28.90</td>\n",
       "      <td>29.50</td>\n",
       "      <td>1600</td>\n",
       "    </tr>\n",
       "  </tbody>\n",
       "</table>\n",
       "<p>3590683 rows × 7 columns</p>\n",
       "</div>"
      ]
     },
     "execution_count": 33,
     "metadata": {},
     "output_type": "execute_result"
    }
   ],
   "execution_count": 33
  },
  {
   "metadata": {
    "ExecuteTime": {
     "end_time": "2025-04-13T09:43:18.700784Z",
     "start_time": "2025-04-13T09:43:18.192005Z"
    }
   },
   "cell_type": "code",
   "source": "final.time = pd.to_datetime(final.time)",
   "id": "e98a1afd9dc02521",
   "outputs": [],
   "execution_count": 34
  },
  {
   "metadata": {
    "ExecuteTime": {
     "end_time": "2025-04-13T09:43:19.470018Z",
     "start_time": "2025-04-13T09:43:19.452981Z"
    }
   },
   "cell_type": "code",
   "source": "final.time.max()",
   "id": "3bad0dae320fcf02",
   "outputs": [
    {
     "data": {
      "text/plain": [
       "Timestamp('2025-03-31 00:00:00')"
      ]
     },
     "execution_count": 35,
     "metadata": {},
     "output_type": "execute_result"
    }
   ],
   "execution_count": 35
  },
  {
   "metadata": {
    "ExecuteTime": {
     "end_time": "2025-04-13T09:44:06.341518Z",
     "start_time": "2025-04-13T09:44:05.873140Z"
    }
   },
   "cell_type": "code",
   "source": "final = final.sort_values(by=['ticker', 'time'], ascending=[True, True])\n",
   "id": "ed2ac6a1875bbac5",
   "outputs": [],
   "execution_count": 38
  },
  {
   "metadata": {
    "ExecuteTime": {
     "end_time": "2025-04-13T09:46:15.257328Z",
     "start_time": "2025-04-13T09:46:07.805434Z"
    }
   },
   "cell_type": "code",
   "source": "final.to_csv('fact_trade_history.csv',index=False)",
   "id": "af663cc8b6afb4ed",
   "outputs": [],
   "execution_count": 42
  },
  {
   "metadata": {
    "ExecuteTime": {
     "end_time": "2025-04-13T14:27:23.555231Z",
     "start_time": "2025-04-13T14:27:23.532795Z"
    }
   },
   "cell_type": "code",
   "source": "company = pd.read_csv('data/company.csv')",
   "id": "9cf16f799141bf5d",
   "outputs": [],
   "execution_count": 2
  },
  {
   "metadata": {
    "ExecuteTime": {
     "end_time": "2025-04-13T14:35:39.665753Z",
     "start_time": "2025-04-13T14:35:39.661140Z"
    }
   },
   "cell_type": "code",
   "source": "pharma = company[company.industry == 'Y tế']",
   "id": "4af9113862586252",
   "outputs": [],
   "execution_count": 6
  },
  {
   "metadata": {
    "ExecuteTime": {
     "end_time": "2025-04-13T14:36:11.872556Z",
     "start_time": "2025-04-13T14:36:11.861741Z"
    }
   },
   "cell_type": "code",
   "source": "pharma.ticker.unique()",
   "id": "de5ae193eba31ab8",
   "outputs": [
    {
     "data": {
      "text/plain": [
       "array(['AGP', 'AMP', 'AMV', 'APC', 'BCP', 'BIO', 'CDP', 'CNC', 'CVN',\n",
       "       'DAN', 'DBD', 'DBM', 'DBT', 'DCL', 'DDN', 'DHD', 'DHG', 'DHN',\n",
       "       'DMC', 'DNM', 'DP1', 'DP2', 'DP3', 'DPH', 'DPP', 'DTG', 'DTH',\n",
       "       'DTP', 'DVM', 'DVN', 'GPC', 'HDP', 'IMP', 'JVC', 'LDP', 'MED',\n",
       "       'MEF', 'MKP', 'MKV', 'MRF', 'MTP', 'NDC', 'NDP', 'NTF', 'OPC',\n",
       "       'PBC', 'PMC', 'PPP', 'SPM', 'TNH', 'TRA', 'TTD', 'TVP', 'TW3',\n",
       "       'UPH', 'VDP', 'VHE', 'VMD', 'YTC'], dtype=object)"
      ]
     },
     "execution_count": 7,
     "metadata": {},
     "output_type": "execute_result"
    }
   ],
   "execution_count": 7
  },
  {
   "metadata": {
    "ExecuteTime": {
     "end_time": "2025-04-13T14:37:10.779994Z",
     "start_time": "2025-04-13T14:37:10.772440Z"
    }
   },
   "cell_type": "code",
   "source": [
    "pharma = ['AGP', 'AMP', 'AMV', 'APC', 'BCP', 'BIO', 'CDP', 'CNC', 'CVN',\n",
    "       'DAN', 'DBD', 'DBM', 'DBT', 'DCL', 'DDN', 'DHD', 'DHG', 'DHN',\n",
    "       'DMC', 'DNM', 'DP1', 'DP2', 'DP3', 'DPH', 'DPP', 'DTG', 'DTH',\n",
    "       'DTP', 'DVM', 'DVN', 'GPC', 'HDP', 'IMP', 'JVC', 'LDP', 'MED',\n",
    "       'MEF', 'MKP', 'MKV', 'MRF', 'MTP', 'NDC', 'NDP', 'NTF', 'OPC',\n",
    "       'PBC', 'PMC', 'PPP', 'SPM', 'TNH', 'TRA', 'TTD', 'TVP', 'TW3',\n",
    "       'UPH', 'VDP', 'VHE', 'VMD', 'YTC']"
   ],
   "id": "e218a07e2838acdf",
   "outputs": [],
   "execution_count": 8
  },
  {
   "metadata": {
    "ExecuteTime": {
     "end_time": "2025-04-13T14:39:05.370783Z",
     "start_time": "2025-04-13T14:39:04.187043Z"
    }
   },
   "cell_type": "code",
   "source": "trade_history = pd.read_csv('fact_trade_history.csv')",
   "id": "6b01d252e64bcd66",
   "outputs": [],
   "execution_count": 9
  },
  {
   "metadata": {
    "ExecuteTime": {
     "end_time": "2025-04-13T14:47:28.565373Z",
     "start_time": "2025-04-13T14:47:28.556883Z"
    }
   },
   "cell_type": "code",
   "source": "trade_history = trade_history[trade_history.ticker.isin(pharma)]",
   "id": "3237639aba818865",
   "outputs": [],
   "execution_count": 19
  },
  {
   "metadata": {
    "ExecuteTime": {
     "end_time": "2025-04-13T14:47:35.478988Z",
     "start_time": "2025-04-13T14:47:35.471609Z"
    }
   },
   "cell_type": "code",
   "source": "trade_history",
   "id": "3f58b40882e7a677",
   "outputs": [
    {
     "data": {
      "text/plain": [
       "        ticker        time   open  high   low  close  volume\n",
       "61836      AGP  2015-10-06  18.22   0.0   0.0    0.0       0\n",
       "61837      AGP  2015-10-07  18.22   0.0   0.0    0.0       0\n",
       "61838      AGP  2015-10-08  18.22   0.0   0.0    0.0       0\n",
       "61839      AGP  2015-10-09  18.22   0.0   0.0    0.0       0\n",
       "61840      AGP  2015-10-12  18.22   0.0   0.0    0.0       0\n",
       "...        ...         ...    ...   ...   ...    ...     ...\n",
       "3590678    YTC  2025-03-25  33.10  33.1  33.1   33.1       0\n",
       "3590679    YTC  2025-03-26  33.80  33.8  33.1   33.1    1019\n",
       "3590680    YTC  2025-03-27  31.10  35.0  31.1   35.0     400\n",
       "3590681    YTC  2025-03-28  31.80  35.5  31.8   31.8     604\n",
       "3590682    YTC  2025-03-31  28.90  34.5  28.9   29.5    1600\n",
       "\n",
       "[127192 rows x 7 columns]"
      ],
      "text/html": [
       "<div>\n",
       "<style scoped>\n",
       "    .dataframe tbody tr th:only-of-type {\n",
       "        vertical-align: middle;\n",
       "    }\n",
       "\n",
       "    .dataframe tbody tr th {\n",
       "        vertical-align: top;\n",
       "    }\n",
       "\n",
       "    .dataframe thead th {\n",
       "        text-align: right;\n",
       "    }\n",
       "</style>\n",
       "<table border=\"1\" class=\"dataframe\">\n",
       "  <thead>\n",
       "    <tr style=\"text-align: right;\">\n",
       "      <th></th>\n",
       "      <th>ticker</th>\n",
       "      <th>time</th>\n",
       "      <th>open</th>\n",
       "      <th>high</th>\n",
       "      <th>low</th>\n",
       "      <th>close</th>\n",
       "      <th>volume</th>\n",
       "    </tr>\n",
       "  </thead>\n",
       "  <tbody>\n",
       "    <tr>\n",
       "      <th>61836</th>\n",
       "      <td>AGP</td>\n",
       "      <td>2015-10-06</td>\n",
       "      <td>18.22</td>\n",
       "      <td>0.0</td>\n",
       "      <td>0.0</td>\n",
       "      <td>0.0</td>\n",
       "      <td>0</td>\n",
       "    </tr>\n",
       "    <tr>\n",
       "      <th>61837</th>\n",
       "      <td>AGP</td>\n",
       "      <td>2015-10-07</td>\n",
       "      <td>18.22</td>\n",
       "      <td>0.0</td>\n",
       "      <td>0.0</td>\n",
       "      <td>0.0</td>\n",
       "      <td>0</td>\n",
       "    </tr>\n",
       "    <tr>\n",
       "      <th>61838</th>\n",
       "      <td>AGP</td>\n",
       "      <td>2015-10-08</td>\n",
       "      <td>18.22</td>\n",
       "      <td>0.0</td>\n",
       "      <td>0.0</td>\n",
       "      <td>0.0</td>\n",
       "      <td>0</td>\n",
       "    </tr>\n",
       "    <tr>\n",
       "      <th>61839</th>\n",
       "      <td>AGP</td>\n",
       "      <td>2015-10-09</td>\n",
       "      <td>18.22</td>\n",
       "      <td>0.0</td>\n",
       "      <td>0.0</td>\n",
       "      <td>0.0</td>\n",
       "      <td>0</td>\n",
       "    </tr>\n",
       "    <tr>\n",
       "      <th>61840</th>\n",
       "      <td>AGP</td>\n",
       "      <td>2015-10-12</td>\n",
       "      <td>18.22</td>\n",
       "      <td>0.0</td>\n",
       "      <td>0.0</td>\n",
       "      <td>0.0</td>\n",
       "      <td>0</td>\n",
       "    </tr>\n",
       "    <tr>\n",
       "      <th>...</th>\n",
       "      <td>...</td>\n",
       "      <td>...</td>\n",
       "      <td>...</td>\n",
       "      <td>...</td>\n",
       "      <td>...</td>\n",
       "      <td>...</td>\n",
       "      <td>...</td>\n",
       "    </tr>\n",
       "    <tr>\n",
       "      <th>3590678</th>\n",
       "      <td>YTC</td>\n",
       "      <td>2025-03-25</td>\n",
       "      <td>33.10</td>\n",
       "      <td>33.1</td>\n",
       "      <td>33.1</td>\n",
       "      <td>33.1</td>\n",
       "      <td>0</td>\n",
       "    </tr>\n",
       "    <tr>\n",
       "      <th>3590679</th>\n",
       "      <td>YTC</td>\n",
       "      <td>2025-03-26</td>\n",
       "      <td>33.80</td>\n",
       "      <td>33.8</td>\n",
       "      <td>33.1</td>\n",
       "      <td>33.1</td>\n",
       "      <td>1019</td>\n",
       "    </tr>\n",
       "    <tr>\n",
       "      <th>3590680</th>\n",
       "      <td>YTC</td>\n",
       "      <td>2025-03-27</td>\n",
       "      <td>31.10</td>\n",
       "      <td>35.0</td>\n",
       "      <td>31.1</td>\n",
       "      <td>35.0</td>\n",
       "      <td>400</td>\n",
       "    </tr>\n",
       "    <tr>\n",
       "      <th>3590681</th>\n",
       "      <td>YTC</td>\n",
       "      <td>2025-03-28</td>\n",
       "      <td>31.80</td>\n",
       "      <td>35.5</td>\n",
       "      <td>31.8</td>\n",
       "      <td>31.8</td>\n",
       "      <td>604</td>\n",
       "    </tr>\n",
       "    <tr>\n",
       "      <th>3590682</th>\n",
       "      <td>YTC</td>\n",
       "      <td>2025-03-31</td>\n",
       "      <td>28.90</td>\n",
       "      <td>34.5</td>\n",
       "      <td>28.9</td>\n",
       "      <td>29.5</td>\n",
       "      <td>1600</td>\n",
       "    </tr>\n",
       "  </tbody>\n",
       "</table>\n",
       "<p>127192 rows × 7 columns</p>\n",
       "</div>"
      ]
     },
     "execution_count": 20,
     "metadata": {},
     "output_type": "execute_result"
    }
   ],
   "execution_count": 20
  },
  {
   "metadata": {
    "ExecuteTime": {
     "end_time": "2025-04-13T14:47:46.950438Z",
     "start_time": "2025-04-13T14:47:46.938432Z"
    }
   },
   "cell_type": "code",
   "source": "close = trade_history.groupby('time')['close'].mean()",
   "id": "cd8dcae443e720f",
   "outputs": [],
   "execution_count": 21
  },
  {
   "metadata": {
    "ExecuteTime": {
     "end_time": "2025-04-13T14:47:48.773213Z",
     "start_time": "2025-04-13T14:47:48.768382Z"
    }
   },
   "cell_type": "code",
   "source": "close",
   "id": "6acd7dda5bcc0e31",
   "outputs": [
    {
     "data": {
      "text/plain": [
       "time\n",
       "2014-01-02    12.298333\n",
       "2014-01-03    12.422500\n",
       "2014-01-06    12.585833\n",
       "2014-01-07    12.521667\n",
       "2014-01-08    12.661250\n",
       "                ...    \n",
       "2025-03-25    30.627759\n",
       "2025-03-26    30.842586\n",
       "2025-03-27    30.936207\n",
       "2025-03-28    30.904655\n",
       "2025-03-31    32.314500\n",
       "Name: close, Length: 2804, dtype: float64"
      ]
     },
     "execution_count": 22,
     "metadata": {},
     "output_type": "execute_result"
    }
   ],
   "execution_count": 22
  },
  {
   "metadata": {
    "ExecuteTime": {
     "end_time": "2025-04-13T14:48:18.508565Z",
     "start_time": "2025-04-13T14:48:18.501050Z"
    }
   },
   "cell_type": "code",
   "source": "close = close.sort_index()",
   "id": "65240d62c037404b",
   "outputs": [],
   "execution_count": 23
  },
  {
   "metadata": {
    "ExecuteTime": {
     "end_time": "2025-04-13T14:49:02.410251Z",
     "start_time": "2025-04-13T14:49:02.389690Z"
    }
   },
   "cell_type": "code",
   "source": "close.to_csv('pharma.csv')",
   "id": "7d42de0825128451",
   "outputs": [],
   "execution_count": 25
  },
  {
   "metadata": {
    "ExecuteTime": {
     "end_time": "2025-04-13T16:43:11.587736Z",
     "start_time": "2025-04-13T16:43:11.580953Z"
    }
   },
   "cell_type": "code",
   "source": "df = pd.read_csv('D:\\Projects\\stock_project\\data\\pharma.csv')",
   "id": "c7b296a2c0a10346",
   "outputs": [],
   "execution_count": 40
  },
  {
   "metadata": {
    "ExecuteTime": {
     "end_time": "2025-04-13T16:43:13.328619Z",
     "start_time": "2025-04-13T16:43:13.324228Z"
    }
   },
   "cell_type": "code",
   "source": [
    "# Add a new \"ticker\" column with all values as 'PHARMA'\n",
    "df.insert(1, 'ticker', 'PHARMA')"
   ],
   "id": "c74a792802bdf3c3",
   "outputs": [],
   "execution_count": 41
  },
  {
   "metadata": {
    "ExecuteTime": {
     "end_time": "2025-04-13T16:43:53.159624Z",
     "start_time": "2025-04-13T16:43:53.149514Z"
    }
   },
   "cell_type": "code",
   "source": "df.to_csv('pharma.csv',index=False)",
   "id": "438d3b4c837e93b6",
   "outputs": [],
   "execution_count": 43
  }
 ],
 "metadata": {
  "kernelspec": {
   "display_name": "Python 3",
   "language": "python",
   "name": "python3"
  },
  "language_info": {
   "codemirror_mode": {
    "name": "ipython",
    "version": 2
   },
   "file_extension": ".py",
   "mimetype": "text/x-python",
   "name": "python",
   "nbconvert_exporter": "python",
   "pygments_lexer": "ipython2",
   "version": "2.7.6"
  }
 },
 "nbformat": 4,
 "nbformat_minor": 5
}
